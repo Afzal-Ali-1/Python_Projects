{
 "cells": [
  {
   "cell_type": "code",
   "execution_count": 9,
   "metadata": {},
   "outputs": [],
   "source": [
    "import speech_recognition as sr\n",
    "def takeCommand():\n",
    "    r=sr.Recognizer()\n",
    "    with sr.Microphone() as source:\n",
    "        print(\"Listening....\")\n",
    "        r.pause_threshold= 0.6#Seconds of non-speaking audio before a phrase is complete\n",
    "        audio=r.listen(source)#press ctrl and click listen to read doc in pycharm\n",
    "    try:\n",
    "        print(\"Recognizing...\")\n",
    "        query=r.recognize_google(audio,language='en-in')\n",
    "        print(f\"User said : {query}\\n\")\n",
    "    except BaseException as e:\n",
    "        print(e)\n",
    "        print(\"Say that again please..\")\n",
    "        return \"None\""
   ]
  },
  {
   "cell_type": "code",
   "execution_count": 10,
   "metadata": {},
   "outputs": [
    {
     "name": "stdout",
     "output_type": "stream",
     "text": [
      "Listening....\n",
      "Recognizing...\n",
      "User said : my name is Afzal Ali\n",
      "\n"
     ]
    }
   ],
   "source": [
    "takeCommand()"
   ]
  },
  {
   "cell_type": "code",
   "execution_count": null,
   "metadata": {},
   "outputs": [],
   "source": []
  }
 ],
 "metadata": {
  "kernelspec": {
   "display_name": "Python 3",
   "language": "python",
   "name": "python3"
  },
  "language_info": {
   "codemirror_mode": {
    "name": "ipython",
    "version": 3
   },
   "file_extension": ".py",
   "mimetype": "text/x-python",
   "name": "python",
   "nbconvert_exporter": "python",
   "pygments_lexer": "ipython3",
   "version": "3.6.5"
  }
 },
 "nbformat": 4,
 "nbformat_minor": 2
}
